{
 "cells": [
  {
   "cell_type": "code",
   "execution_count": null,
   "metadata": {},
   "outputs": [],
   "source": [
    "# !pip install opencv-python transformers accelerate\n",
    "from diffusers import StableDiffusionPipeline, ControlNetModel, UniPCMultistepScheduler\n",
    "from diffusers.utils import load_image\n",
    "import numpy as np\n",
    "import torch\n",
    "\n",
    "import cv2\n",
    "from PIL import Image\n",
    "from controlnet_aux import MidasDetector,OpenposeDetector,HEDdetector\n",
    "# pipe = StableDiffusionPipeline.from_pretrained(\n",
    "#     \"runwayml/stable-diffusion-v1-5\"\n",
    "# )\n",
    "\n",
    "# speed up diffusion process with faster scheduler and memory optimization\n",
    "\n",
    "midas = MidasDetector.from_pretrained(\"lllyasviel/Annotators\")\n",
    "openpose = OpenposeDetector.from_pretrained(\"lllyasviel/Annotators\")\n",
    "hed = HEDdetector.from_pretrained(\"lllyasviel/Annotators\")\n",
    "\n",
    "generator = torch.manual_seed(100)\n",
    "from diffusers import StableDiffusionControlNetPipeline, ControlNetModel, UniPCMultistepScheduler\n",
    "controlnet1= ControlNetModel.from_pretrained(\"lllyasviel/sd-controlnet-openpose\")\n",
    "\n",
    "pipe = StableDiffusionControlNetPipeline.from_pretrained(\n",
    "    \"runwayml/stable-diffusion-v1-5\", controlnet=controlnet1\n",
    ")\n",
    "pipe.scheduler = UniPCMultistepScheduler.from_config(pipe.scheduler.config)\n",
    "from controlnet_naive import ControlNetModel\n",
    "statedictpipe=pipe.controlnet.state_dict()\n",
    "new_unet=ControlNetModel()\n",
    "new_unet.load_state_dict(statedictpipe)\n",
    "pipe.controlnet=new_unet\n",
    "edge_image=load_image('./spider5.jpg').convert(\"RGB\")\n",
    "image=openpose(edge_image)\n",
    "image=Image.fromarray(np.array(image))\n",
    "# image = cv2.Canny(edge_image, 100,200)\n",
    "# image = image[:, :, None]\n",
    "# image = np.concatenate([image, image, image], axis=2)\n",
    "# image = Image.fromarray(image)\n",
    "# image.resize((512,512)).save('canny.png')\n",
    "pipe.to(\"cuda\")\n"
   ]
  },
  {
   "cell_type": "markdown",
   "metadata": {},
   "source": []
  },
  {
   "cell_type": "code",
   "execution_count": null,
   "metadata": {},
   "outputs": [],
   "source": [
    "edge_image"
   ]
  },
  {
   "cell_type": "code",
   "execution_count": null,
   "metadata": {},
   "outputs": [],
   "source": [
    "# from controlnet_naive import ControlNetModel\n",
    "# statedictpipe=pipe.controlnet.state_dict()\n",
    "# new_unet=ControlNetModel()"
   ]
  },
  {
   "cell_type": "code",
   "execution_count": null,
   "metadata": {},
   "outputs": [],
   "source": [
    "edge_image=load_image('./luffy.jpg').convert(\"RGB\")\n",
    "image=openpose(edge_image)\n",
    "image=Image.fromarray(np.array(image))\n",
    "image1=image.resize((512,512))\n",
    "image1.save('luffy_pose.png')"
   ]
  },
  {
   "cell_type": "code",
   "execution_count": null,
   "metadata": {},
   "outputs": [],
   "source": [
    "# new_unet.load_state_dict(statedictpipe)\n",
    "# pipe.unet=new_unet"
   ]
  },
  {
   "cell_type": "code",
   "execution_count": null,
   "metadata": {},
   "outputs": [],
   "source": [
    "import ptp_utils_naive_control as ptp_utils\n",
    "def run_and_display(pipe,prompts, negative_prompts, latent=None, run_baseline=False, generator=None,  control=None , results_dir='results'):\n",
    "\n",
    "    images, x_t, all_list_encoder= ptp_utils.text2image_ldm_stable(pipe, prompts, negative_prompts, latent=latent, num_inference_steps=50, guidance_scale=7.5, generator=generator,control=control, low_resource=False)\n",
    "\n",
    "    # ptp_utils.view_images(images,results_dir=results_dir)\n",
    "    return images, x_t, all_list_encoder"
   ]
  },
  {
   "cell_type": "code",
   "execution_count": null,
   "metadata": {},
   "outputs": [],
   "source": [
    "prompts=[\"Spiderman looking at a city, cyberpunk,hd , best quality, high quality\"]\n",
    "negative_prompts=[\"Bad quality, bad anatomy\"]"
   ]
  },
  {
   "cell_type": "code",
   "execution_count": null,
   "metadata": {},
   "outputs": [],
   "source": []
  },
  {
   "cell_type": "code",
   "execution_count": null,
   "metadata": {},
   "outputs": [],
   "source": [
    "pipe = pipe.to(\"cuda\")\n",
    "g_cpu = torch.Generator().manual_seed(100)\n",
    "latent = torch.randn(\n",
    "                (1, 4,512 // 8, 512 // 8),\n",
    "                generator=g_cpu,\n",
    "            )\n",
    "a,b,c=run_and_display(pipe,prompts, negative_prompts, latent=latent, run_baseline=False, generator=None, control=image, results_dir='results')\n",
    "ptp_utils.view_images(a)"
   ]
  },
  {
   "cell_type": "code",
   "execution_count": null,
   "metadata": {},
   "outputs": [],
   "source": [
    "a.save('luffy-pose.png')\n",
    "stop"
   ]
  },
  {
   "cell_type": "code",
   "execution_count": null,
   "metadata": {},
   "outputs": [],
   "source": [
    "import os\n",
    "\n",
    "# import nump\n",
    "from PIL import Image\n",
    "import matplotlib.pyplot as plt\n",
    "\n",
    "def save_image(imagea, loc):\n",
    "    # if image.shape[1]>=64:\n",
    "        imagea=imagea-imagea.min()\n",
    "        imagea=imagea/imagea.max()\n",
    "        imagea = imagea[0].cpu().cpu().numpy()\n",
    "        # image=(image-np.min(image))(np.max(image)-np.min(image))\n",
    "        imagea = (imagea * 255).astype(np.uint8)\n",
    "        imagea=Image.fromarray(imagea)\n",
    "        imagea=imagea.resize((256,256))\n",
    "        image_array = np.array(imagea)\n",
    "\n",
    "        # Create a heatmap from the array\n",
    "        plt.imshow(image_array, cmap='viridis')\n",
    "\n",
    "        # Remove axes and save the heatmap\n",
    "        plt.axis('off')\n",
    "        plt.savefig(loc, bbox_inches='tight', pad_inches=0)\n",
    "        return imagea\n",
    "    # return None\n",
    "    \n",
    "print(len(c))\n",
    "count=0\n",
    "for list1 in c:\n",
    "    count=count+1\n",
    "    # print(list1)\n",
    "    for list2 in list1:\n",
    "        # print(list2.shape,count)\n",
    "        # print(list2)\n",
    "        if os.path.exists('spider_pose')==False:\n",
    "             os.makedirs('spider_pose')\n",
    "        if image is not None:\n",
    "            dirname=len(os.listdir('./spider_pose'))\n",
    "        loc = os.path.join('./spider_pose', str(dirname)+'.png')\n",
    "        image=save_image(list2,loc)\n"
   ]
  },
  {
   "cell_type": "code",
   "execution_count": null,
   "metadata": {},
   "outputs": [],
   "source": [
    "image"
   ]
  },
  {
   "cell_type": "code",
   "execution_count": null,
   "metadata": {},
   "outputs": [],
   "source": []
  }
 ],
 "metadata": {
  "kernelspec": {
   "display_name": "diffusers_freeu",
   "language": "python",
   "name": "python3"
  },
  "language_info": {
   "codemirror_mode": {
    "name": "ipython",
    "version": 3
   },
   "file_extension": ".py",
   "mimetype": "text/x-python",
   "name": "python",
   "nbconvert_exporter": "python",
   "pygments_lexer": "ipython3",
   "version": "3.8.5"
  },
  "orig_nbformat": 4
 },
 "nbformat": 4,
 "nbformat_minor": 2
}
